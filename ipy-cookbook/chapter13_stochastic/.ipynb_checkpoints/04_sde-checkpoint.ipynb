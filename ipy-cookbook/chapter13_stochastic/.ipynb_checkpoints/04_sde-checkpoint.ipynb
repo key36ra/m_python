{
 "cells": [
  {
   "cell_type": "code",
   "execution_count": null,
   "metadata": {
    "collapsed": true
   },
   "outputs": [],
   "source": []
  },
  {
   "cell_type": "markdown",
   "metadata": {},
   "source": [
    "# 13.4 確率微分方程式のシミュレーション\n",
    "　**確率微分方程式**(Stochastic differential equations : SDE)は、ノイズを含む力学系をモデル化する。  \n",
    "　このレシピでは、**ランジュバン方程式**の解である**オルシュタイン・ウーレンベック過程**をシミュレーションする。このモデルは、抵抗のある流体内における粒子の確率的変化を表す。流体分子の衝突(拡散)により粒子に動きが生じる。定稿の影響下にある点がブラウン運動との相違である。  \n",
    "　オルシュタイン・ウーレンベック過程は、定常的でガウス性とマルコフ聖を満たす定常ランダムノイズの良い候補である。  \n",
    "　ここでは**オイラー・丸山法**と呼ばれる数値解法を使ってシミュレーションする。これは常微分方程式に対するオイラー法を確率微分方程式へと単純に一般化したものである。\n",
    "\n",
    "## 手順\n",
    "1. NumPyとmatplotlibをインポート。"
   ]
  },
  {
   "cell_type": "code",
   "execution_count": null,
   "metadata": {
    "collapsed": true
   },
   "outputs": [],
   "source": []
  }
 ],
 "metadata": {
  "kernelspec": {
   "display_name": "Python 3",
   "language": "python",
   "name": "python3"
  },
  "language_info": {
   "codemirror_mode": {
    "name": "ipython",
    "version": 3
   },
   "file_extension": ".py",
   "mimetype": "text/x-python",
   "name": "python",
   "nbconvert_exporter": "python",
   "pygments_lexer": "ipython3",
   "version": "3.6.1"
  }
 },
 "nbformat": 4,
 "nbformat_minor": 2
}
