{
 "cells": [
  {
   "cell_type": "markdown",
   "metadata": {},
   "source": [
    "# 15.2 方程式と不等式の解\n",
    "　SymPyは線形および非線形方程式、または連立方程式を解く手段をいくつも提供している。もちろんこれらの方法を使っても正確な解の式を得られるとは限らない。その場合には、数値ソルバーを用いて近似解を求める手段に立ち戻る必要がある。\n",
    "\n",
    "## 準備\n",
    "　SymPyを使う。\n",
    " ```python\n",
    " conda(pip) install sympy\n",
    " ```\n",
    " 加えて、notebook上のプリティプリントを有功にする。\n",
    "\n",
    "## 手順\n",
    "1. まず、SymPyのインポートし、IPython notebook乗でのLaTeX表示を有効にする。"
   ]
  },
  {
   "cell_type": "code",
   "execution_count": 2,
   "metadata": {
    "collapsed": true
   },
   "outputs": [],
   "source": [
    "from sympy import *\n",
    "init_printing()"
   ]
  },
  {
   "cell_type": "markdown",
   "metadata": {},
   "source": [
    "1. シンボルをいくつか定義する。"
   ]
  },
  {
   "cell_type": "code",
   "execution_count": 3,
   "metadata": {
    "scrolled": true
   },
   "outputs": [
    {
     "data": {
      "image/png": "[encoded data removed]",
      "text/latex": [
       "$$\\left ( x, \\quad y, \\quad z, \\quad a\\right )$$"
      ],
      "text/plain": [
       "(x, y, z, a)"
      ]
     },
     "execution_count": 3,
     "metadata": {},
     "output_type": "execute_result"
    }
   ],
   "source": [
    "var('x y z a')"
   ]
  },
  {
   "cell_type": "markdown",
   "metadata": {},
   "source": [
    "1. solve()関数を使って、連立方程式を解く(方程式の右辺はデフォルトで0)。"
   ]
  },
  {
   "cell_type": "code",
   "execution_count": 4,
   "metadata": {
    "scrolled": true
   },
   "outputs": [
    {
     "data": {
      "image/png": "[encoded data removed]",
      "text/latex": [
       "$$\\left [ - \\sqrt{a}, \\quad \\sqrt{a}\\right ]$$"
      ],
      "text/plain": [
       "[-√a, √a]"
      ]
     },
     "execution_count": 4,
     "metadata": {},
     "output_type": "execute_result"
    }
   ],
   "source": [
    "solve(x**2  - a, x)"
   ]
  },
  {
   "cell_type": "markdown",
   "metadata": {},
   "source": [
    "1. 不等式も解ける。ここではsolve_univariate_inequality()関数を使って、実数領域の一変数不等式を解いてみる。"
   ]
  },
  {
   "cell_type": "code",
   "execution_count": 5,
   "metadata": {},
   "outputs": [
    {
     "data": {
      "image/png": "[encoded data removed]",
      "text/latex": [
       "$$\\left(-\\infty < x \\wedge x < -2\\right) \\vee \\left(2 < x \\wedge x < \\infty\\right)$$"
      ],
      "text/plain": [
       "(-∞ < x ∧ x < -2) ∨ (2 < x ∧ x < ∞)"
      ]
     },
     "execution_count": 5,
     "metadata": {},
     "output_type": "execute_result"
    }
   ],
   "source": [
    "x = Symbol('x')\n",
    "solve_univariate_inequality(x**2 > 4, x)"
   ]
  },
  {
   "cell_type": "markdown",
   "metadata": {},
   "source": [
    "1. solve()関数は、連立方程式(ここでは、線形システムを使う)も受け付ける。"
   ]
  },
  {
   "cell_type": "code",
   "execution_count": 6,
   "metadata": {},
   "outputs": [
    {
     "data": {
      "image/png": "[encoded data removed]",
      "text/latex": [
       "$$\\left \\{ x : \\frac{1}{5}, \\quad y : - \\frac{3}{5}\\right \\}$$"
      ],
      "text/plain": [
       "{x: 1/5, y: -3/5}"
      ]
     },
     "execution_count": 6,
     "metadata": {},
     "output_type": "execute_result"
    }
   ],
   "source": [
    "solve([x + 2*y + 1, x- 3*y - 2], x, y)"
   ]
  },
  {
   "cell_type": "markdown",
   "metadata": {},
   "source": [
    "1. 非線形システムも扱える。"
   ]
  },
  {
   "cell_type": "code",
   "execution_count": 7,
   "metadata": {},
   "outputs": [
    {
     "data": {
      "image/png": "[encoded data removed]",
      "text/latex": [
       "$$\\left [ \\left ( - \\frac{\\sqrt{3}}{2}, \\quad - \\frac{1}{2}\\right ), \\quad \\left ( - \\frac{\\sqrt{3}}{2}, \\quad \\frac{1}{2}\\right ), \\quad \\left ( \\frac{\\sqrt{3}}{2}, \\quad - \\frac{1}{2}\\right ), \\quad \\left ( \\frac{\\sqrt{3}}{2}, \\quad \\frac{1}{2}\\right )\\right ]$$"
      ],
      "text/plain": [
       "⎡⎛-√3       ⎞  ⎛-√3      ⎞  ⎛√3      ⎞  ⎛√3     ⎞⎤\n",
       "⎢⎜────, -1/2⎟, ⎜────, 1/2⎟, ⎜──, -1/2⎟, ⎜──, 1/2⎟⎥\n",
       "⎣⎝ 2        ⎠  ⎝ 2       ⎠  ⎝2       ⎠  ⎝2      ⎠⎦"
      ]
     },
     "execution_count": 7,
     "metadata": {},
     "output_type": "execute_result"
    }
   ],
   "source": [
    "solve([x**2 + y**2 - 1, x**2 - y**2 - S(1)/2], x, y)"
   ]
  },
  {
   "cell_type": "markdown",
   "metadata": {},
   "source": [
    "1. 線形特異システムも解ける(ここでは2つの方程式は共線のかんけいであるため、解は無限個存在する)。"
   ]
  },
  {
   "cell_type": "code",
   "execution_count": 8,
   "metadata": {},
   "outputs": [
    {
     "data": {
      "image/png": "[encoded data removed]",
      "text/latex": [
       "$$\\left \\{ x : - 2 y - 1\\right \\}$$"
      ],
      "text/plain": [
       "{x: -2⋅y - 1}"
      ]
     },
     "execution_count": 8,
     "metadata": {},
     "output_type": "execute_result"
    }
   ],
   "source": [
    "solve([x + 2*y + 1, -x - 2*y - 1], x, y)"
   ]
  },
  {
   "cell_type": "markdown",
   "metadata": {},
   "source": [
    "# "
   ]
  }
 ],
 "metadata": {
  "kernelspec": {
   "display_name": "Python 3",
   "language": "python",
   "name": "python3"
  },
  "language_info": {
   "codemirror_mode": {
    "name": "ipython",
    "version": 3
   },
   "file_extension": ".py",
   "mimetype": "text/x-python",
   "name": "python",
   "nbconvert_exporter": "python",
   "pygments_lexer": "ipython3",
   "version": "3.6.1"
  }
 },
 "nbformat": 4,
 "nbformat_minor": 2
}
