{
 "cells": [
  {
   "cell_type": "code",
   "execution_count": null,
   "metadata": {
    "collapsed": true
   },
   "outputs": [],
   "source": []
  },
  {
   "cell_type": "markdown",
   "metadata": {},
   "source": [
    "# 10.1 高速フーリエ変換による信号の周波数成分分析\n",
    "　信号のスペクトル密度を**高速フーリエ変換**(Fast Fourier Transform : FFT)を使って計算する。信号は情報を失うことなく時間領域と周波数領域との間で変換が可能である。\n",
    "\n",
    "　ここでは、フーリエ変換の持ついくつかの側面を示す。アメリカの国立気候データセンター(National Climatic Data Centere : NCDC)の提供する20年間にわたるフランスの気象データに対してこのツールを適用する。\n",
    "\n",
    "## 準備\n",
    "　[本書のGitHub](http://github.com/ipython-books/cookbook-data)からweather.zipをダウンロードし、展開する。\n",
    "\n",
    "## 手順\n",
    "1. FFT関連のパッケージscipy.fftpackを含めて必要なパッケージをインポートする。"
   ]
  },
  {
   "cell_type": "code",
   "execution_count": 12,
   "metadata": {
    "collapsed": true
   },
   "outputs": [],
   "source": [
    "import datetime\n",
    "import numpy as np\n",
    "import scipy as sp\n",
    "import scipy.fftpack\n",
    "import pandas as pd\n",
    "import matplotlib.pyplot as plt\n",
    "%matplotlib inline"
   ]
  },
  {
   "cell_type": "markdown",
   "metadata": {},
   "source": [
    "1. 展開したCSVファイルからデータを読み込む。読み込む際にDATE列の値を日付として解釈するよう指定する。"
   ]
  },
  {
   "cell_type": "code",
   "execution_count": 3,
   "metadata": {},
   "outputs": [],
   "source": [
    "df0 = pd.read_csv('data/weather.csv', na_values=(-9999), parse_dates=['DATE'])"
   ]
  },
  {
   "cell_type": "code",
   "execution_count": 4,
   "metadata": {
    "collapsed": true
   },
   "outputs": [],
   "source": [
    "df = df0[df0['DATE']>='19940101']"
   ]
  },
  {
   "cell_type": "code",
   "execution_count": 5,
   "metadata": {},
   "outputs": [
    {
     "data": {
      "text/html": [
       "<div>\n",
       "<style>\n",
       "    .dataframe thead tr:only-child th {\n",
       "        text-align: right;\n",
       "    }\n",
       "\n",
       "    .dataframe thead th {\n",
       "        text-align: left;\n",
       "    }\n",
       "\n",
       "    .dataframe tbody tr th {\n",
       "        vertical-align: top;\n",
       "    }\n",
       "</style>\n",
       "<table border=\"1\" class=\"dataframe\">\n",
       "  <thead>\n",
       "    <tr style=\"text-align: right;\">\n",
       "      <th></th>\n",
       "      <th>STATION</th>\n",
       "      <th>DATE</th>\n",
       "      <th>PRCP</th>\n",
       "      <th>TMAX</th>\n",
       "      <th>TMIN</th>\n",
       "    </tr>\n",
       "  </thead>\n",
       "  <tbody>\n",
       "    <tr>\n",
       "      <th>365</th>\n",
       "      <td>GHCND:FR013055001</td>\n",
       "      <td>1994-01-01</td>\n",
       "      <td>0.0</td>\n",
       "      <td>104.0</td>\n",
       "      <td>72.0</td>\n",
       "    </tr>\n",
       "    <tr>\n",
       "      <th>366</th>\n",
       "      <td>GHCND:FR013055001</td>\n",
       "      <td>1994-01-02</td>\n",
       "      <td>4.0</td>\n",
       "      <td>128.0</td>\n",
       "      <td>49.0</td>\n",
       "    </tr>\n",
       "    <tr>\n",
       "      <th>367</th>\n",
       "      <td>GHCND:FR013055001</td>\n",
       "      <td>1994-01-03</td>\n",
       "      <td>0.0</td>\n",
       "      <td>160.0</td>\n",
       "      <td>87.0</td>\n",
       "    </tr>\n",
       "    <tr>\n",
       "      <th>368</th>\n",
       "      <td>GHCND:FR013055001</td>\n",
       "      <td>1994-01-04</td>\n",
       "      <td>0.0</td>\n",
       "      <td>118.0</td>\n",
       "      <td>83.0</td>\n",
       "    </tr>\n",
       "    <tr>\n",
       "      <th>369</th>\n",
       "      <td>GHCND:FR013055001</td>\n",
       "      <td>1994-01-05</td>\n",
       "      <td>34.0</td>\n",
       "      <td>133.0</td>\n",
       "      <td>55.0</td>\n",
       "    </tr>\n",
       "  </tbody>\n",
       "</table>\n",
       "</div>"
      ],
      "text/plain": [
       "               STATION       DATE  PRCP   TMAX  TMIN\n",
       "365  GHCND:FR013055001 1994-01-01   0.0  104.0  72.0\n",
       "366  GHCND:FR013055001 1994-01-02   4.0  128.0  49.0\n",
       "367  GHCND:FR013055001 1994-01-03   0.0  160.0  87.0\n",
       "368  GHCND:FR013055001 1994-01-04   0.0  118.0  83.0\n",
       "369  GHCND:FR013055001 1994-01-05  34.0  133.0  55.0"
      ]
     },
     "execution_count": 5,
     "metadata": {},
     "output_type": "execute_result"
    }
   ],
   "source": [
    "df.head()"
   ]
  },
  {
   "cell_type": "markdown",
   "metadata": {},
   "source": [
    "1. フランスの測候所ごとに観測した、一日の降水量(PRCP)と最高気温(TMAX)、最低気温(TMIN)が記録されている。日ごとの気温平均を算出するために、pandasのgroupby()関数を使う。該当データが存在しない箇所は、dropna()が排除する。"
   ]
  },
  {
   "cell_type": "code",
   "execution_count": 6,
   "metadata": {
    "collapsed": true
   },
   "outputs": [],
   "source": [
    "df_avg = df.dropna().groupby('DATE').mean()"
   ]
  },
  {
   "cell_type": "code",
   "execution_count": 8,
   "metadata": {},
   "outputs": [
    {
     "data": {
      "text/html": [
       "<div>\n",
       "<style>\n",
       "    .dataframe thead tr:only-child th {\n",
       "        text-align: right;\n",
       "    }\n",
       "\n",
       "    .dataframe thead th {\n",
       "        text-align: left;\n",
       "    }\n",
       "\n",
       "    .dataframe tbody tr th {\n",
       "        vertical-align: top;\n",
       "    }\n",
       "</style>\n",
       "<table border=\"1\" class=\"dataframe\">\n",
       "  <thead>\n",
       "    <tr style=\"text-align: right;\">\n",
       "      <th></th>\n",
       "      <th>PRCP</th>\n",
       "      <th>TMAX</th>\n",
       "      <th>TMIN</th>\n",
       "    </tr>\n",
       "    <tr>\n",
       "      <th>DATE</th>\n",
       "      <th></th>\n",
       "      <th></th>\n",
       "      <th></th>\n",
       "    </tr>\n",
       "  </thead>\n",
       "  <tbody>\n",
       "    <tr>\n",
       "      <th>1994-01-01</th>\n",
       "      <td>178.666667</td>\n",
       "      <td>127.388889</td>\n",
       "      <td>70.333333</td>\n",
       "    </tr>\n",
       "    <tr>\n",
       "      <th>1994-01-02</th>\n",
       "      <td>122.000000</td>\n",
       "      <td>152.421053</td>\n",
       "      <td>81.736842</td>\n",
       "    </tr>\n",
       "    <tr>\n",
       "      <th>1994-01-03</th>\n",
       "      <td>277.333333</td>\n",
       "      <td>157.666667</td>\n",
       "      <td>95.555556</td>\n",
       "    </tr>\n",
       "    <tr>\n",
       "      <th>1994-01-04</th>\n",
       "      <td>177.105263</td>\n",
       "      <td>142.210526</td>\n",
       "      <td>95.684211</td>\n",
       "    </tr>\n",
       "    <tr>\n",
       "      <th>1994-01-05</th>\n",
       "      <td>117.944444</td>\n",
       "      <td>130.222222</td>\n",
       "      <td>75.444444</td>\n",
       "    </tr>\n",
       "  </tbody>\n",
       "</table>\n",
       "</div>"
      ],
      "text/plain": [
       "                  PRCP        TMAX       TMIN\n",
       "DATE                                         \n",
       "1994-01-01  178.666667  127.388889  70.333333\n",
       "1994-01-02  122.000000  152.421053  81.736842\n",
       "1994-01-03  277.333333  157.666667  95.555556\n",
       "1994-01-04  177.105263  142.210526  95.684211\n",
       "1994-01-05  117.944444  130.222222  75.444444"
      ]
     },
     "execution_count": 8,
     "metadata": {},
     "output_type": "execute_result"
    }
   ],
   "source": [
    "df_avg.head()"
   ]
  },
  {
   "cell_type": "markdown",
   "metadata": {},
   "source": [
    "1. 日付リストと、対応する気温のリストを作成し、最高気温と最低気温の平均を計算する。10度を一単位とするため、ここでは気温の和を20で除算する。"
   ]
  },
  {
   "cell_type": "code",
   "execution_count": 9,
   "metadata": {
    "collapsed": true
   },
   "outputs": [],
   "source": [
    "date = df_avg.index.to_datetime()\n",
    "temp = (df_avg['TMAX'] + df_avg['TMIN']) / 20. # 平均気温の算出\n",
    "N = len(temp)"
   ]
  },
  {
   "cell_type": "markdown",
   "metadata": {},
   "source": [
    "1. 気温の変化をグラフにしてみる。"
   ]
  },
  {
   "cell_type": "code",
   "execution_count": 27,
   "metadata": {
    "scrolled": true
   },
   "outputs": [
    {
     "data": {
      "text/plain": [
       "<matplotlib.text.Text at 0x7f6e6cf78fd0>"
      ]
     },
     "execution_count": 27,
     "metadata": {},
     "output_type": "execute_result"
    },
    {
     "data": {
      "image/png": "[encoded data removed]",
      "text/plain": [
       "<matplotlib.figure.Figure at 0x7f6e6ce0c6d8>"
      ]
     },
     "metadata": {},
     "output_type": "display_data"
    }
   ],
   "source": [
    "plt.plot_date(date, temp, '-', lw=.5) # x軸、y軸データをプロット\n",
    "plt.ylim(-10, 40)\n",
    "plt.xlabel('Date')\n",
    "plt.ylabel('Mean temperature')"
   ]
  },
  {
   "cell_type": "markdown",
   "metadata": {},
   "source": [
    "1. 信号をフーリエ変換して、スペクトル密度を計算。まず、fft()関数を用いて、FFTを計算する。"
   ]
  },
  {
   "cell_type": "code",
   "execution_count": 13,
   "metadata": {},
   "outputs": [],
   "source": [
    "temp_fft = sp.fftpack.fft(temp) # 平均気温のフーリエ変換"
   ]
  },
  {
   "cell_type": "markdown",
   "metadata": {},
   "source": [
    "1. FFTが得られたら、**パワースペクトル密度**(PSD)を見るためにっ絶対値を2乗。"
   ]
  },
  {
   "cell_type": "code",
   "execution_count": 14,
   "metadata": {
    "collapsed": true
   },
   "outputs": [],
   "source": [
    "temp_psd = np.abs(temp_fft) ** 2 # 振幅=>強度変換"
   ]
  },
  {
   "cell_type": "markdown",
   "metadata": {},
   "source": [
    "1. 次にPSDの値に対応した周波数を求める。ユーティリティ関数fftfreq()を使う。入力には、PSDベクトルの長さと、周期を指定する。ここでは1年を単位とするため、1年(365日)を1周期とするが、元のデータが日付であるため、1/365を指定する。"
   ]
  },
  {
   "cell_type": "code",
   "execution_count": 15,
   "metadata": {
    "collapsed": true
   },
   "outputs": [],
   "source": [
    "fftfreq = sp.fftpack.fftfreq(len(temp_psd), 1./365)"
   ]
  },
  {
   "cell_type": "markdown",
   "metadata": {},
   "source": [
    "1. fftfreq()関数が返す値には、性の周波数も不の周波数も含まれる。実際の信号を扱うため、ここでは正の周波数のみに着目する。"
   ]
  },
  {
   "cell_type": "code",
   "execution_count": 17,
   "metadata": {
    "collapsed": true
   },
   "outputs": [],
   "source": [
    "i = fftfreq>0"
   ]
  },
  {
   "cell_type": "markdown",
   "metadata": {},
   "source": [
    "1. PSDを周波数(年単位の周期)で表記する。ここでは、y軸の対数(デシベル)にする。"
   ]
  },
  {
   "cell_type": "code",
   "execution_count": 18,
   "metadata": {
    "scrolled": true
   },
   "outputs": [
    {
     "data": {
      "text/plain": [
       "<matplotlib.text.Text at 0x7f6e7117ea90>"
      ]
     },
     "execution_count": 18,
     "metadata": {},
     "output_type": "execute_result"
    },
    {
     "data": {
      "image/png": "[encoded data removed]",
      "text/plain": [
       "<matplotlib.figure.Figure at 0x7f6e71b29780>"
      ]
     },
     "metadata": {},
     "output_type": "display_data"
    }
   ],
   "source": [
    "plt.plot(fftfreq[i], 10*np.log10(temp_psd[i]))\n",
    "plt.xlim(0, 5)\n",
    "plt.xlabel('Frequency (1/year)')\n",
    "plt.ylabel('PSD (dB)')"
   ]
  },
  {
   "cell_type": "markdown",
   "metadata": {},
   "source": [
    "1. 基本の周波数を超える成分を取り除く。"
   ]
  },
  {
   "cell_type": "code",
   "execution_count": 19,
   "metadata": {
    "collapsed": true
   },
   "outputs": [],
   "source": [
    "temp_fft_bis = temp_fft.copy()\n",
    "temp_fft_bis[np.abs(fftfreq) > 1.1] = 0"
   ]
  },
  {
   "cell_type": "markdown",
   "metadata": {},
   "source": [
    "1. 続いて、高周波数成分を取り除いたフーリエ変換を逆FFTで時間領域に戻す。この操作により、次の図のような基本周波数を含む信号を復元できる。"
   ]
  },
  {
   "cell_type": "code",
   "execution_count": 20,
   "metadata": {
    "collapsed": true
   },
   "outputs": [],
   "source": [
    "temp_slow = np.real(sp.fftpack.ifft(temp_fft_bis))"
   ]
  },
  {
   "cell_type": "code",
   "execution_count": 21,
   "metadata": {},
   "outputs": [
    {
     "data": {
      "text/plain": [
       "<matplotlib.text.Text at 0x7f6e71b297b8>"
      ]
     },
     "execution_count": 21,
     "metadata": {},
     "output_type": "execute_result"
    },
    {
     "data": {
      "image/png": "[encoded data removed]",
      "text/plain": [
       "<matplotlib.figure.Figure at 0x7f6e70ec6630>"
      ]
     },
     "metadata": {},
     "output_type": "display_data"
    }
   ],
   "source": [
    "plt.plot_date(date, temp, '-', lw=.5)\n",
    "plt.plot_date(date, temp_slow, '-')\n",
    "plt.xlim(datetime.date(1994, 1,1), datetime.date(2000, 1, 1))\n",
    "plt.ylim(-10, 40)\n",
    "plt.xlabel('Date')\n",
    "plt.ylabel('Mean temperature')"
   ]
  },
  {
   "cell_type": "code",
   "execution_count": null,
   "metadata": {
    "collapsed": true
   },
   "outputs": [],
   "source": []
  }
 ],
 "metadata": {
  "kernelspec": {
   "display_name": "Python 3",
   "language": "python",
   "name": "python3"
  },
  "language_info": {
   "codemirror_mode": {
    "name": "ipython",
    "version": 3
   },
   "file_extension": ".py",
   "mimetype": "text/x-python",
   "name": "python",
   "nbconvert_exporter": "python",
   "pygments_lexer": "ipython3",
   "version": "3.6.1"
  }
 },
 "nbformat": 4,
 "nbformat_minor": 2
}
