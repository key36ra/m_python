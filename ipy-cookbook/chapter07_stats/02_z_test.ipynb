{
 "cells": [
  {
   "cell_type": "code",
   "execution_count": null,
   "metadata": {
    "collapsed": true
   },
   "outputs": [],
   "source": []
  },
  {
   "cell_type": "markdown",
   "metadata": {},
   "source": [
    "# 7.2 はじめ統計的統計的仮説検定：簡単なZ検定\n",
    "　**統計的仮説検定**は不完全なデータを元にした判断を可能とする。定義により、この判断は必ずしも正しいわけではない。統計理論は、不確実な世界で判断を下すための道具にすぎない。\n",
    "\n",
    "　ここでは、統計的仮説検定のもっとも簡単な手法を見る。非常に単純な思考としてコイン投げを使う。**Z検定**を行う手順を示し、その背景にある数学的考え方を簡単に説明する。この類の手法(頻度主義の手法)は科学の領域でも広く使われ、同時に多くの批判にもさらされている。統計ではベイズ理論に基づいた手法も存在し、後のレシピで紹介。まだ多くの研究や書籍は頻度主義の手法に従っているため、両者を理解するのは、非常に有益である。\n",
    " \n",
    "## 準備\n",
    "　環境の準備は必要ない。\n",
    "\n",
    "　確率理論の基本的な知識(確率変数、確率分布、期待値、分散、中心極限定理など)を必要とする。\n",
    "\n",
    "## 手順\n",
    "\n",
    "### 頻度主義による仮説検定の流れ\n",
    "\n",
    "1. これから証明しようとする仮説の反対である**帰無仮説**(null hypothesis)を設定する\n",
    "2. 検定の種類、モデル、仮説、データに適した式を使い**検定統計量**を計算する\n",
    "3. 計算値を基に帰無仮説が棄却されるか、棄却できないかを判断する\n",
    "\n",
    "　ここでは、コインを$n$回投げて、表が出た回数を$h$とする。コインに歪みがない(帰無仮説)かどうか、を検証する。\n",
    " \n",
    "　ベルヌーイ分布$B(q)$は、パラメータ$q$で規定され、ベルヌーイ変数は次の性質を持つ。\n",
    "1. 0(裏)の確率：$1-q$\n",
    "2. 1(表)の確率：$q$\n",
    "\n",
    "### 簡単な統計的Z検定の手順\n",
    "1. 100回の指向の後、$h=61$の表が出たとする。優位水準を0.05と置いて、帰無仮説をコインに歪みがない($q=\\frac{1}{2}$)とする。"
   ]
  },
  {
   "cell_type": "code",
   "execution_count": 1,
   "metadata": {
    "collapsed": true
   },
   "outputs": [],
   "source": [
    "import numpy as np\n",
    "import scipy.stats as st\n",
    "import scipy.special as sp"
   ]
  },
  {
   "cell_type": "code",
   "execution_count": 2,
   "metadata": {
    "collapsed": true
   },
   "outputs": [],
   "source": [
    "n = 100 # コイントスの回数\n",
    "h = 61  # 表が出た回数\n",
    "q = .5  # 帰無仮説(コインに歪みがない)"
   ]
  },
  {
   "cell_type": "markdown",
   "metadata": {},
   "source": [
    "2. **Zスコア**を計算する(xbarは分布の推定平均を表す)。"
   ]
  },
  {
   "cell_type": "code",
   "execution_count": 3,
   "metadata": {
    "scrolled": true
   },
   "outputs": [
    {
     "data": {
      "text/plain": [
       "2.1999999999999997"
      ]
     },
     "execution_count": 3,
     "metadata": {},
     "output_type": "execute_result"
    }
   ],
   "source": [
    "xbar = float(h)/n # 分布の推定平均\n",
    "z = (xbar - q) * np.sqrt(n / (q*(1-q))); z # Zスコアの計算"
   ]
  },
  {
   "cell_type": "markdown",
   "metadata": {},
   "source": [
    "3. Zスコアより、p値を計算する。"
   ]
  },
  {
   "cell_type": "code",
   "execution_count": 4,
   "metadata": {
    "scrolled": true
   },
   "outputs": [
    {
     "data": {
      "text/plain": [
       "0.02780689502699718"
      ]
     },
     "execution_count": 4,
     "metadata": {},
     "output_type": "execute_result"
    }
   ],
   "source": [
    "pval = 2 * (1 - st.norm.cdf(z)); pval"
   ]
  },
  {
   "cell_type": "markdown",
   "metadata": {},
   "source": [
    "4. p値が0.05よりも小さいので、帰無仮説は棄却され、コインにはおそらく歪みがあるとの結論に至る。"
   ]
  },
  {
   "cell_type": "markdown",
   "metadata": {},
   "source": [
    "## 解説\n",
    "　このコイントスの実験は、ベルヌーイ分布$B(q)$に従う確率変数$x_i $のn回試行としてモデル化できる。$x_i$はそれぞれ1回のトスを表す。実験後には、実際の値(標本)が得られる。確率変数(確率オブジェクト)と実際の値(標本)を区別するために、両者を異なる記法で表す場合もある。\n",
    "\n",
    "　次の式で**標本平均**を求める(ここでは表の出た割合)。\n",
    " $$\\overline{x} = \\frac{1}{n} \\Sigma_l x_i$$\n",
    "　予測値$\\mu=q$と分布$B(q)$の分散$\\sigma^2 = q(1-q)$を用いて、次の式を計算する。\n",
    " $$E[\\overline{x}] = \\mu = q$$\n",
    " $$var(\\overline{x}) = \\frac{\\sigma^2}{n}  = \\frac{q(1-q)}{n}$$\n",
    " \n",
    "　Z検定は$\\overline{x}$を正規化したもの(平均値を標準偏差で割るため、平均が0、標準偏差が1になる)。\n",
    " $$z = \\frac{\\overline{x} - E[\\overline{x}]}{std(\\overline{x})} = (\\overline{x}-q) \\sqrt{\\frac{n}{q(1-q)}}$$\n",
    "\n",
    "　帰無仮説のもと、Z検定の値が$z_0$よりも大きくなる確率は、どの程度か。この確率は(両側)p値と呼ばれる。中心極限定理により、多くの標本のもとではZ検定はおおよそ標準ガウス分布$N(0,1)$に従う。そのため、次の式が得られる。\n",
    " $$p = P[|z| > z_0] = 2P[z > z_0] \\cong 2(1-\\phi(z_0))$$\n",
    " \n",
    "　この式で、$\\phi$は標準正規分布の**累積分布関数**を表す。SciPyではscipy.stats.norm.cdfで求められる。データから求められるZ検定からp値、つまり帰無仮説のもとで観測した結果が極端な値である確率を求める。\n",
    "\n",
    "　もしp値が5%(歴史的かつさまざまな理由により、有意水準として広く用いられている)よりも小さい場合、次のどちらかの結論を得る。\n",
    "1. 帰無仮説が棄却され、コインに歪みがあると結論付ける。\n",
    "2. 帰無仮説は正しく、観測された値は単なる偶然であり、結論付けることはできない。\n",
    "\n",
    "　このフレームワークで上記2つの選択肢のあいまいさをなくすことはできない。しかし、大抵の場合は、最初の選択が行われる。頻度主義の限界に突き当たっているが、この問題を緩和する方法もある(例えば、いくつもの独立した手法を組み合わせ、それらの結論を総合的に判断する等)。"
   ]
  }
 ],
 "metadata": {
  "kernelspec": {
   "display_name": "Python 3",
   "language": "python",
   "name": "python3"
  },
  "language_info": {
   "codemirror_mode": {
    "name": "ipython",
    "version": 3
   },
   "file_extension": ".py",
   "mimetype": "text/x-python",
   "name": "python",
   "nbconvert_exporter": "python",
   "pygments_lexer": "ipython3",
   "version": "3.6.1"
  }
 },
 "nbformat": 4,
 "nbformat_minor": 2
}
