{
 "cells": [
  {
   "cell_type": "markdown",
   "metadata": {},
   "source": [
    "# 14.2 NetworkXによる、ソーシャルネットワークの分析\n",
    "　このレシピでは、Pythonでソーシャルデータを分析する方法を紹介する。ソーシャルデータとは、Facebook、Twitter、Google+、GitHubなどのソーシャルネットワーク上で活動する人々から生成されるデータ。  \n",
    "　ここではTwitterユーザ間のつながりをNetworkXで分析し、可視化する。\n",
    "\n",
    "## 準備\n",
    "　まず、PythonのTwitterパッケージが必要。詳細は、https://pypi.python.org/pypi/twitter を参照。\n",
    " ```python\n",
    " pip install twitter\n",
    " ```\n",
    "　次にTwitterデータにアクセスするための認証コードを取得する。コードの取得は無料だが、Twitterのアカウントが必要。Twitterの開発者用Webサイトhttps://dev.twitter.com/apps でアプリケーション定義を行うと、このレシピで使用するOAuth認証コードが入手できる。  \n",
    "　カレントフォルダにテキストファイルtwitter.txtを作成する。4つの認証キーを1行に1つずつ、次の順に4行で書き込む。\n",
    "- API key\n",
    "- API secret\n",
    "- Access token\n",
    "- Access token secret\n",
    "\n",
    "　Twitter APIの呼び出しには制限がある。たいていのAPIは、決められた時間内に決められた回数しか呼び出せない。小さなネットワークについて調査したり、大きなネットワークの小さな部分を調べるのであれば、呼び出し回数を調整しなければならない。このレシピでは、APIの制限に抵触しないようにネットワークの小さな部分のみに着目する。そうしなければ、次に時間間隔が始まるため、しばらく待たなければならない。APIの制限については、https://dev.twitter.com/docs/rate-limiting/1.1/limits を参照する。\n",
    "\n",
    "## 手順\n",
    "1. 必要なパッケージをインポートする。"
   ]
  },
  {
   "cell_type": "code",
   "execution_count": 2,
   "metadata": {
    "collapsed": true
   },
   "outputs": [],
   "source": [
    "import math\n",
    "import json\n",
    "import twitter\n",
    "import numpy as np\n",
    "import pandas as pd\n",
    "import networkx as nx\n",
    "import matplotlib.pyplot as plt\n",
    "%matplotlib inline\n",
    "from IPython.display import Image"
   ]
  },
  {
   "cell_type": "markdown",
   "metadata": {},
   "source": [
    "1. twitter.txtファイルから認証キーを読み込む。"
   ]
  },
  {
   "cell_type": "code",
   "execution_count": 7,
   "metadata": {},
   "outputs": [],
   "source": [
    "(CONSUMER_KEY,\n",
    " CONSUMER_SECRET,\n",
    " OAUTH_TOKEN,\n",
    " OAUTH_TOKEN_SECRET) = open(\n",
    "    'twitter.txt', 'r').read().splitlines()"
   ]
  },
  {
   "cell_type": "markdown",
   "metadata": {},
   "source": [
    "1. Twitter APIへのアクセスを提供するTwitterオブジェクトを作成する。"
   ]
  },
  {
   "cell_type": "code",
   "execution_count": 8,
   "metadata": {
    "collapsed": true
   },
   "outputs": [],
   "source": [
    "auth = twitter.oauth.OAuth(OAUTH_TOKEN,\n",
    "                           OAUTH_TOKEN_SECRET,\n",
    "                           CONSUMER_KEY,\n",
    "                           CONSUMER_SECRET)\n",
    "tw = twitter.Twitter(auth=auth)"
   ]
  },
  {
   "cell_type": "markdown",
   "metadata": {},
   "source": [
    "1. このレシピではTwitter API1.1を使う。TwitterパッケージではTwitterオブジェクトの属性とREST APIが1対1に対応している。  \n",
    "ここでは、認証ユーザの識別子を取得するためにacount/verify_credentials RESTリクエストを実行する。"
   ]
  },
  {
   "cell_type": "code",
   "execution_count": 9,
   "metadata": {
    "collapsed": true,
    "scrolled": true
   },
   "outputs": [],
   "source": [
    "me = tw.account.verify_credentials()"
   ]
  },
  {
   "cell_type": "code",
   "execution_count": 10,
   "metadata": {
    "scrolled": true
   },
   "outputs": [],
   "source": [
    "myid = me['id']"
   ]
  },
  {
   "cell_type": "markdown",
   "metadata": {},
   "source": [
    "1. 指定したユーザ(デフォルトでは、認証ユーザ)のフォロワーIDを返す簡単な関数を定義する。"
   ]
  },
  {
   "cell_type": "code",
   "execution_count": 11,
   "metadata": {
    "collapsed": true
   },
   "outputs": [],
   "source": [
    "def get_followers_ids(uid=None):\n",
    "    # 指定されたユーザのフォロワーIDを取得する\n",
    "    return tw.followers.ids(user_id=uid)['ids']"
   ]
  },
  {
   "cell_type": "code",
   "execution_count": 12,
   "metadata": {},
   "outputs": [],
   "source": [
    "# フォロワーをリスト\n",
    "my_followers_ids = get_followers_ids()"
   ]
  },
  {
   "cell_type": "markdown",
   "metadata": {},
   "source": [
    "1. つぎに、Twitterユーザのプロファイルを読み出す関数を定義する。users/lookupリクエストは、一定時間内の呼び出し回数に制限がある上に、一度の呼び出しで取得できるプロファイルは100名分に制限されているため、フォロワーの一部だけを扱うことにする。"
   ]
  },
  {
   "cell_type": "code",
   "execution_count": 13,
   "metadata": {
    "collapsed": true
   },
   "outputs": [],
   "source": [
    "def get_users_info(users_ids, max=500):\n",
    "    n = min(max, len(users_ids))\n",
    "    # 指定ユーザの情報を取得する\n",
    "    users = [tw.users.lookup(\n",
    "        user_id=users_ids[100*i:100*(i+1)])\n",
    "             for i in range(int(math.ceil(n/100.)))]\n",
    "    # 100名との集合を平たく展開する\n",
    "    users = [item for sublist in users for item in sublist]\n",
    "    return {user['id']: user for user in users}"
   ]
  },
  {
   "cell_type": "code",
   "execution_count": 14,
   "metadata": {},
   "outputs": [],
   "source": [
    "users_info = get_users_info(my_followers_ids)"
   ]
  },
  {
   "cell_type": "code",
   "execution_count": 15,
   "metadata": {},
   "outputs": [],
   "source": [
    "# 結果をファイルに保存\n",
    "with open('my_followers.json', 'w') as f:\n",
    "    json.dump(users_info, f, indent=1)"
   ]
  },
  {
   "cell_type": "markdown",
   "metadata": {},
   "source": [
    "1. 隣接リスト(技術的には、リストの辞書)を用いたフォロワーのグラフを描画する準備を始める。このグラフは、**エゴグラフ**と呼ばれる。このグラフでえは、フォロワーの持つすべてのフォロー接続が表現される。"
   ]
  },
  {
   "cell_type": "code",
   "execution_count": 16,
   "metadata": {},
   "outputs": [],
   "source": [
    "adjacency = {myid: my_followers_ids}"
   ]
  },
  {
   "cell_type": "markdown",
   "metadata": {},
   "source": [
    "1. エゴグラフの中でPythonに関係するものを調べる。特にdescriptionに文字列\"Python\"を含むフォロワーで、フォロー数が10人分を対象とする。"
   ]
  },
  {
   "cell_type": "code",
   "execution_count": 17,
   "metadata": {},
   "outputs": [],
   "source": [
    "my_followers_python = [user for user in users_info.values() if 'python' in user['description'].lower()]"
   ]
  },
  {
   "cell_type": "code",
   "execution_count": 20,
   "metadata": {},
   "outputs": [],
   "source": [
    "my_followers_python_best = sorted(my_followers_python,key=lambda u: u['followers_count'])[::-1][:10]"
   ]
  },
  {
   "cell_type": "markdown",
   "metadata": {},
   "source": [
    "フォロワーの情報取得には制限があるため、現時点で残り何解字Jっ高できるかを確認する。"
   ]
  },
  {
   "cell_type": "code",
   "execution_count": 21,
   "metadata": {},
   "outputs": [
    {
     "data": {
      "text/plain": [
       "{'limit': 15, 'remaining': 14, 'reset': 1507047147}"
      ]
     },
     "execution_count": 21,
     "metadata": {},
     "output_type": "execute_result"
    }
   ],
   "source": [
    "tw.application.rate_limit_status(resources='followers') ['resources']['followers']['/followers/ids']"
   ]
  },
  {
   "cell_type": "code",
   "execution_count": 22,
   "metadata": {},
   "outputs": [],
   "source": [
    "for user in my_followers_python_best:\n",
    "    # get_followers_idsの呼び出しは回数制限がある点に注意\n",
    "    adjacency[user['id']] = list(set(get_followers_ids(user['id'])).intersection(my_followers_ids))"
   ]
  },
  {
   "cell_type": "markdown",
   "metadata": {},
   "source": [
    "1. グラフを辞書に格納した隣接リストとして定義し、NetworkXに読み込む。"
   ]
  },
  {
   "cell_type": "code",
   "execution_count": 23,
   "metadata": {},
   "outputs": [],
   "source": [
    "g = nx.Graph(adjacency)"
   ]
  },
  {
   "cell_type": "code",
   "execution_count": 24,
   "metadata": {},
   "outputs": [],
   "source": [
    "# プロファイルを取得できるユーザのみにグラフを制限する\n",
    "g = g.subgraph(users_info.keys())"
   ]
  },
  {
   "cell_type": "code",
   "execution_count": 25,
   "metadata": {},
   "outputs": [],
   "source": [
    "# グラフもファイルに保存する\n",
    "with open('my_graph.json', 'w') as f:\n",
    "    json.dump(nx.to_dict_of_lists(g), f, indent=1)"
   ]
  },
  {
   "cell_type": "code",
   "execution_count": 26,
   "metadata": {},
   "outputs": [],
   "source": [
    "# 単純化のために、孤立したのノードは取り除く\n",
    "g.remove_nodes_from([k for k, d in g.degree().items() if d <= 1])"
   ]
  },
  {
   "cell_type": "code",
   "execution_count": 27,
   "metadata": {},
   "outputs": [],
   "source": [
    "# 自分自身はすべてのノードと接続されているので、簡略化のために自分を取り除くことにする\n",
    "g.remove_nodes_from([myid])"
   ]
  },
  {
   "cell_type": "markdown",
   "metadata": {},
   "source": [
    "1. グラフの規模を表示する。"
   ]
  },
  {
   "cell_type": "code",
   "execution_count": 29,
   "metadata": {},
   "outputs": [
    {
     "data": {
      "text/plain": [
       "(0, 0)"
      ]
     },
     "execution_count": 29,
     "metadata": {},
     "output_type": "execute_result"
    }
   ],
   "source": [
    "len(g.nodes()), len(g.edges())"
   ]
  },
  {
   "cell_type": "markdown",
   "metadata": {},
   "source": [
    "1. グラフ描画を準備する。個々のノードには、フォロワー数とツイート数に従って異なる大きさと色を持たせる。フォロワー数の多いユーザは大きく、ツイート数の多い活発なユーザは濃い赤で表示する。"
   ]
  },
  {
   "cell_type": "code",
   "execution_count": 30,
   "metadata": {},
   "outputs": [],
   "source": [
    "# 辞書を更新\n",
    "deg = g.degree()\n",
    "for user in users_info.values():\n",
    "    fc = user['followers_count']\n",
    "    sc = user['statuses_count']\n",
    "    # Pythonに興味を持つユーザか?\n",
    "    user['python'] = 'python' in user['description'].lower()\n",
    "    # ノードの大きさをフォロワー数の関数として計算する\n",
    "    user['node_size'] = math.sqrt(1 + 10 * fc)\n",
    "    # ノードの色は、ツイート量から計算する\n",
    "    user['node_color'] = 10 * math.sqrt(1 + sc)\n",
    "    # フォロワーの多いユーザの名前を表示する\n",
    "    user['label'] = user['screen_name'] if fc > 2000 else ''"
   ]
  },
  {
   "cell_type": "markdown",
   "metadata": {},
   "source": [
    "1. グラフの描画にはdraw()関数を用いる。ノードの大きさのリスト、色のリスト、らベルの辞書を関数に渡す。"
   ]
  },
  {
   "cell_type": "code",
   "execution_count": 33,
   "metadata": {},
   "outputs": [],
   "source": [
    "node_size = [users_info[uid]['node_size'] for uid in g.nodes()]"
   ]
  },
  {
   "cell_type": "code",
   "execution_count": 35,
   "metadata": {},
   "outputs": [],
   "source": [
    "node_color = [users_info[uid]['node_color'] for uid in g.nodes()]"
   ]
  },
  {
   "cell_type": "code",
   "execution_count": 36,
   "metadata": {},
   "outputs": [],
   "source": [
    "labels = {uid: users_info[uid]['label'] for uid in g.nodes()}"
   ]
  },
  {
   "cell_type": "code",
   "execution_count": 37,
   "metadata": {},
   "outputs": [
    {
     "name": "stderr",
     "output_type": "stream",
     "text": [
      "/home/ubuntum/anaconda3/lib/python3.6/site-packages/networkx/drawing/nx_pylab.py:126: MatplotlibDeprecationWarning: pyplot.hold is deprecated.\n",
      "    Future behavior will be consistent with the long-time default:\n",
      "    plot commands add elements without first clearing the\n",
      "    Axes and/or Figure.\n",
      "  b = plt.ishold()\n",
      "/home/ubuntum/anaconda3/lib/python3.6/site-packages/networkx/drawing/nx_pylab.py:138: MatplotlibDeprecationWarning: pyplot.hold is deprecated.\n",
      "    Future behavior will be consistent with the long-time default:\n",
      "    plot commands add elements without first clearing the\n",
      "    Axes and/or Figure.\n",
      "  plt.hold(b)\n",
      "/home/ubuntum/anaconda3/lib/python3.6/site-packages/matplotlib/__init__.py:917: UserWarning: axes.hold is deprecated. Please remove it from your matplotlibrc and/or style files.\n",
      "  warnings.warn(self.msg_depr_set % key)\n",
      "/home/ubuntum/anaconda3/lib/python3.6/site-packages/matplotlib/rcsetup.py:152: UserWarning: axes.hold is deprecated, will be removed in 3.0\n",
      "  warnings.warn(\"axes.hold is deprecated, will be removed in 3.0\")\n"
     ]
    },
    {
     "data": {
      "image/png": "[encoded data removed]",
      "text/plain": [
       "<matplotlib.figure.Figure at 0x7f5480843160>"
      ]
     },
     "metadata": {},
     "output_type": "display_data"
    }
   ],
   "source": [
    "nx.draw(g, cmap=plt.cm.OrRd, alpha=.8, node_size=node_size, node_color=node_color, labels=labels, font_size=4, width=.1)"
   ]
  }
 ],
 "metadata": {
  "kernelspec": {
   "display_name": "Python 3",
   "language": "python",
   "name": "python3"
  },
  "language_info": {
   "codemirror_mode": {
    "name": "ipython",
    "version": 3
   },
   "file_extension": ".py",
   "mimetype": "text/x-python",
   "name": "python",
   "nbconvert_exporter": "python",
   "pygments_lexer": "ipython3",
   "version": "3.6.1"
  }
 },
 "nbformat": 4,
 "nbformat_minor": 2
}
