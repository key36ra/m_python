{
 "cells": [
  {
   "cell_type": "code",
   "execution_count": null,
   "metadata": {
    "collapsed": true
   },
   "outputs": [],
   "source": []
  },
  {
   "cell_type": "markdown",
   "metadata": {},
   "source": [
    "# 14.5 点集合に対するボロノイ図の計算\n",
    "　母点の集合に対する**ボロノイ図**は、空間をいくつかの領域に分割する。領域内のあらゆる点は、1つの母点に対して他の母点よりも近くに存在するという特徴がある。  \n",
    "　ボロノイ図は、計算幾何学の基本的な構造であり、計算機科学、ロボット工学、地理学など多くの分野で広く活用されている。例えば地下鉄の駅に対するボロノイ図は、最も近い駅を示す。  \n",
    "　このレシピでは、パリ市内の地下鉄駅に対するボロノイ図をSciPyを使って作成する。\n",
    "\n",
    "## 準備\n",
    "　パリのOpenStreetMap地図を表示するために、Smopyモジュールを使う。\n",
    " ```python\n",
    " pip install smopy\n",
    " ```\n",
    "　加えて、[本書のGitHubリポジトリ](https://github.com/ipython-books/cookbook-data)からRATPデータセットをダウンロードして、カレントディレクトリに展開する。このデータは、RATP(パリ交通公団)オープンデータWebサイトから入手したものである。\n",
    "\n",
    "## 手順\n",
    "1. NumPy、pandas、matplotlib、SciPyをインポートする。"
   ]
  },
  {
   "cell_type": "code",
   "execution_count": 1,
   "metadata": {
    "collapsed": true
   },
   "outputs": [],
   "source": [
    "import numpy as np\n",
    "import pandas as pd\n",
    "import scipy.spatial as spatial\n",
    "import matplotlib.pyplot as plt\n",
    "import matplotlib.path as path\n",
    "import matplotlib as mpl\n",
    "import smopy\n",
    "%matplotlib inline"
   ]
  },
  {
   "cell_type": "markdown",
   "metadata": {},
   "source": [
    "1. データセットをpandasに読み込む。"
   ]
  },
  {
   "cell_type": "code",
   "execution_count": 2,
   "metadata": {
    "collapsed": true
   },
   "outputs": [],
   "source": [
    "df = pd.read_csv('data/ratp.csv', sep='#', header=None)"
   ]
  },
  {
   "cell_type": "code",
   "execution_count": 3,
   "metadata": {},
   "outputs": [
    {
     "data": {
      "text/html": [
       "<div>\n",
       "<style>\n",
       "    .dataframe thead tr:only-child th {\n",
       "        text-align: right;\n",
       "    }\n",
       "\n",
       "    .dataframe thead th {\n",
       "        text-align: left;\n",
       "    }\n",
       "\n",
       "    .dataframe tbody tr th {\n",
       "        vertical-align: top;\n",
       "    }\n",
       "</style>\n",
       "<table border=\"1\" class=\"dataframe\">\n",
       "  <thead>\n",
       "    <tr style=\"text-align: right;\">\n",
       "      <th></th>\n",
       "      <th>1</th>\n",
       "      <th>2</th>\n",
       "      <th>3</th>\n",
       "      <th>4</th>\n",
       "      <th>5</th>\n",
       "    </tr>\n",
       "  </thead>\n",
       "  <tbody>\n",
       "    <tr>\n",
       "      <th>11609</th>\n",
       "      <td>2.301197</td>\n",
       "      <td>48.933118</td>\n",
       "      <td>TIMBAUD</td>\n",
       "      <td>GENNEVILLIERS</td>\n",
       "      <td>tram</td>\n",
       "    </tr>\n",
       "    <tr>\n",
       "      <th>11610</th>\n",
       "      <td>2.230144</td>\n",
       "      <td>48.913708</td>\n",
       "      <td>VICTOR BASCH</td>\n",
       "      <td>COLOMBES</td>\n",
       "      <td>tram</td>\n",
       "    </tr>\n",
       "  </tbody>\n",
       "</table>\n",
       "</div>"
      ],
      "text/plain": [
       "              1          2             3              4     5\n",
       "11609  2.301197  48.933118       TIMBAUD  GENNEVILLIERS  tram\n",
       "11610  2.230144  48.913708  VICTOR BASCH       COLOMBES  tram"
      ]
     },
     "execution_count": 3,
     "metadata": {},
     "output_type": "execute_result"
    }
   ],
   "source": [
    "df[df.columns[1:]].tail(2)"
   ]
  },
  {
   "cell_type": "markdown",
   "metadata": {},
   "source": [
    "1. このDataFrameオブジェクトには座標、名称、市、行政区、駅の種類が記録されている。この中から地下鉄の駅をすべて取り出す。"
   ]
  },
  {
   "cell_type": "code",
   "execution_count": 4,
   "metadata": {
    "collapsed": true
   },
   "outputs": [],
   "source": [
    "metro = df[(df[5] == 'metro')]"
   ]
  },
  {
   "cell_type": "code",
   "execution_count": 5,
   "metadata": {},
   "outputs": [
    {
     "data": {
      "text/html": [
       "<div>\n",
       "<style>\n",
       "    .dataframe thead tr:only-child th {\n",
       "        text-align: right;\n",
       "    }\n",
       "\n",
       "    .dataframe thead th {\n",
       "        text-align: left;\n",
       "    }\n",
       "\n",
       "    .dataframe tbody tr th {\n",
       "        vertical-align: top;\n",
       "    }\n",
       "</style>\n",
       "<table border=\"1\" class=\"dataframe\">\n",
       "  <thead>\n",
       "    <tr style=\"text-align: right;\">\n",
       "      <th></th>\n",
       "      <th>1</th>\n",
       "      <th>2</th>\n",
       "      <th>3</th>\n",
       "      <th>4</th>\n",
       "      <th>5</th>\n",
       "    </tr>\n",
       "  </thead>\n",
       "  <tbody>\n",
       "    <tr>\n",
       "      <th>305</th>\n",
       "      <td>2.308041</td>\n",
       "      <td>48.841697</td>\n",
       "      <td>Volontaires</td>\n",
       "      <td>PARIS-15EME</td>\n",
       "      <td>metro</td>\n",
       "    </tr>\n",
       "    <tr>\n",
       "      <th>306</th>\n",
       "      <td>2.379884</td>\n",
       "      <td>48.857876</td>\n",
       "      <td>Voltaire (Léon Blum)</td>\n",
       "      <td>PARIS-11EME</td>\n",
       "      <td>metro</td>\n",
       "    </tr>\n",
       "    <tr>\n",
       "      <th>307</th>\n",
       "      <td>2.304651</td>\n",
       "      <td>48.883874</td>\n",
       "      <td>Wagram</td>\n",
       "      <td>PARIS-17EME</td>\n",
       "      <td>metro</td>\n",
       "    </tr>\n",
       "  </tbody>\n",
       "</table>\n",
       "</div>"
      ],
      "text/plain": [
       "            1          2                     3            4      5\n",
       "305  2.308041  48.841697           Volontaires  PARIS-15EME  metro\n",
       "306  2.379884  48.857876  Voltaire (Léon Blum)  PARIS-11EME  metro\n",
       "307  2.304651  48.883874                Wagram  PARIS-17EME  metro"
      ]
     },
     "execution_count": 5,
     "metadata": {},
     "output_type": "execute_result"
    }
   ],
   "source": [
    "metro[metro.columns[1:]].tail(3)"
   ]
  },
  {
   "cell_type": "code",
   "execution_count": null,
   "metadata": {
    "collapsed": true
   },
   "outputs": [],
   "source": []
  }
 ],
 "metadata": {
  "kernelspec": {
   "display_name": "Python 3",
   "language": "python",
   "name": "python3"
  },
  "language_info": {
   "codemirror_mode": {
    "name": "ipython",
    "version": 3
   },
   "file_extension": ".py",
   "mimetype": "text/x-python",
   "name": "python",
   "nbconvert_exporter": "python",
   "pygments_lexer": "ipython3",
   "version": "3.6.1"
  }
 },
 "nbformat": 4,
 "nbformat_minor": 2
}
