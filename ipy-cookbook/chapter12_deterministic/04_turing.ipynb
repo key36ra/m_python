{
 "cells": [
  {
   "cell_type": "code",
   "execution_count": null,
   "metadata": {
    "collapsed": true
   },
   "outputs": [],
   "source": []
  },
  {
   "cell_type": "markdown",
   "metadata": {},
   "source": [
    "# 12.4 偏微分方程式のシミュレーション：反応拡散系とチューリングパターン\n",
    "　**偏微分方程式**(Partial Differential Equation : PDE)は、時間と空間の両方を服務力学系の変化、例えば音、熱、電磁気力、団勢力などを扱う。生物学では、腫瘍の増殖、人口動態学、伝染病の伝播などにも応用されている。   \n",
    "　PDEは、解析的に特のが困難であるため、数値的なシミュレーションを行う。  \n",
    "　このレシピでは、**フィッツフュー・南雲方程式**で表される**反応拡散系**をシミュレートする方法を紹介する。反応拡散系は、1種類または複数の変数が、反応(変数が相互変化すること)および拡散(空間領域へ広がること)2つのプロセスにより変化する様子をモデル化したもの。化学反応のいくつかは、このモデルで説明できるが、物理学、生物学、生態学などの分野でも応用される。  \n",
    "　アラン・チューリングによって提案された動物の体表面の模様構造モデルをシミュレートする。ここでは皮膚の色素形勢に影響を与える2つの科学物質が反応拡散系モデルに従って相互作用を及ぼしあう。この系は、シマウマ、ジャガー、キリンなどの毛皮を連想させる模様を生成する。  \n",
    "　この系を有限差分法を用いてシミュレートする。この手法は、時間と空間について離散化して導関数を等価な離散系に置き換える。\n",
    "\n",
    "## 手順\n",
    "1. 必要なパッケージをインポートする。"
   ]
  },
  {
   "cell_type": "code",
   "execution_count": 16,
   "metadata": {
    "collapsed": true
   },
   "outputs": [],
   "source": [
    "import numpy as np\n",
    "import matplotlib.pyplot as plt\n",
    "%matplotlib inline"
   ]
  },
  {
   "cell_type": "markdown",
   "metadata": {},
   "source": [
    "1. 次の偏微分方程式で表される系を$E=[-1,1]^2$の領域でシミュレートする。\n",
    "\\begin{eqnarray}\n",
    "\\frac{\\partial u}{\\partial t} &=& a\\Delta u + u - u^3 - v + k \\\\\n",
    "\\tau \\frac{\\partial v}{\\partial t} &=& b\\Delta v + u - v\n",
    "\\end{eqnarray}\n",
    "変数uは、皮膚の色素沈着を推進する物質の密度を表し、変数vは最初の変数と反応し色素沈着を阻害する物質密度を表す。  \n",
    "初期状態では、uとvはそれぞれの一でランダムで独立な値を持っていると仮定する。ここではまた、**ノイマン境界条件**も適用する。つまり領域の境界において、空間導関数はnullとする。"
   ]
  },
  {
   "cell_type": "markdown",
   "metadata": {},
   "source": [
    "1. モデルのパラメータを定義する。"
   ]
  },
  {
   "cell_type": "code",
   "execution_count": 17,
   "metadata": {
    "collapsed": true
   },
   "outputs": [],
   "source": [
    "a = 2.8e-4\n",
    "b = 5e-3\n",
    "tau = .1\n",
    "k = -.005"
   ]
  },
  {
   "cell_type": "markdown",
   "metadata": {},
   "source": [
    "1. 時間と空間に大して、離散化する。次の条件はここでしようする離散化手法を安定的に適用するために必要な条件である。\n",
    "\\begin{equation}\n",
    "\\mathrm{d}t \\leq \\frac{\\mathrm{d}x^2}{2}\n",
    "\\end{equation}"
   ]
  },
  {
   "cell_type": "code",
   "execution_count": 18,
   "metadata": {
    "collapsed": true
   },
   "outputs": [],
   "source": [
    "size = 80 # 2次元グリッドのサイズ\n",
    "dx = 2./size # 空間ステップ"
   ]
  },
  {
   "cell_type": "code",
   "execution_count": 19,
   "metadata": {
    "collapsed": true
   },
   "outputs": [],
   "source": [
    "T = 10.0 # 総時間\n",
    "dt = .9 * dx**2/2 # 時間ステップ\n",
    "n = int(T/dt)"
   ]
  },
  {
   "cell_type": "markdown",
   "metadata": {},
   "source": [
    "1. 変数uとvを初期化する。行列UとVは、2次元格子の頂点におけるそれぞれの変数値を持つ。変数値は0から1の間の均一なランダム値で初期化する。"
   ]
  },
  {
   "cell_type": "code",
   "execution_count": 24,
   "metadata": {
    "collapsed": true
   },
   "outputs": [],
   "source": [
    "U = np.random.randn(size, size)\n",
    "V = np.random.randn(size, size)"
   ]
  },
  {
   "cell_type": "markdown",
   "metadata": {},
   "source": [
    "1. 次に、5点ステンシル有限差分法を用いて、2次元格子状の変数に対するラプラス作用素(ラプラシアン)を計算する関数を定義する。この作用素は次に式で定義される。\n",
    "\\begin{equation}\n",
    "\\Delta u(x, y) = \\frac{u(x+h,y) + u(x-h,y) + u(x,y+h) + u(x,y-h) - 4u(x,y)}{\\mathrm{d}x^2}\n",
    "\\end{equation}\n",
    "この作用素は、ベクトル過行列演算を使って計算できる。行列の端における影響を排除するために、格子の境界にあたる値を取り除く必要がある。"
   ]
  },
  {
   "cell_type": "code",
   "execution_count": 25,
   "metadata": {
    "collapsed": true
   },
   "outputs": [],
   "source": [
    "def laplacian(Z):\n",
    "    Ztop = Z[0:-2,1:-1]\n",
    "    Zleft = Z[1:-1,0:-2]\n",
    "    Zbottom = Z[2:,1:-1]\n",
    "    Zright = Z[1:-1,2:]\n",
    "    Zcenter = Z[1:-1,1:-1]\n",
    "    return (Ztop + Zleft + Zbottom + Zright - 4 * Zcenter) / dx**2"
   ]
  },
  {
   "cell_type": "markdown",
   "metadata": {},
   "source": [
    "1. 有限差分法を使って、系をシミュレートする。各時間ステップにおいて2つの方程式の右側を離散空間導関数(ラプラシアン)を使って計算する。続いて、離散時間導関数を使い変数を更新する。"
   ]
  },
  {
   "cell_type": "code",
   "execution_count": 26,
   "metadata": {},
   "outputs": [],
   "source": [
    "for i in range(n):\n",
    "    # uとvのラプラシアンを計算\n",
    "    deltaU = laplacian(U)\n",
    "    deltaV = laplacian(V)\n",
    "    # 格子内のuとvの値を使用\n",
    "    Uc = U[1:-1,1:-1]\n",
    "    Vc = V[1:-1,1:-1]\n",
    "    # 変数を更新\n",
    "    U[1:-1,1:-1], V[1:-1,1:-1] = (\n",
    "        Uc + dt * (a*deltaU + Uc - Uc**3 - Vc + k),\n",
    "        Vc + dt * (b*deltaV + Uc - Vc) / tau)\n",
    "    # ノイマン境界条件：境界の値をnull\n",
    "    for Z in (U, V):\n",
    "        Z[0,:] = Z[1,:]\n",
    "        Z[-1,:] = Z[-2,:]\n",
    "        Z[:,0] = Z[:,1]\n",
    "        Z[:,-1] = Z[:,-2]"
   ]
  },
  {
   "cell_type": "markdown",
   "metadata": {},
   "source": [
    "1. 時間T経過後のシミュレーション結果の変数uを表示。"
   ]
  },
  {
   "cell_type": "code",
   "execution_count": 23,
   "metadata": {
    "scrolled": false
   },
   "outputs": [
    {
     "data": {
      "text/plain": [
       "<matplotlib.image.AxesImage at 0x7f77a8bf9ef0>"
      ]
     },
     "execution_count": 23,
     "metadata": {},
     "output_type": "execute_result"
    },
    {
     "data": {
      "image/png": "[encoded data removed]",
      "text/plain": [
       "<matplotlib.figure.Figure at 0x7f77a8c7d898>"
      ]
     },
     "metadata": {},
     "output_type": "display_data"
    }
   ],
   "source": [
    "plt.imshow(U, cmap=plt.cm.copper, extent=[-1,1,-1,1])"
   ]
  },
  {
   "cell_type": "markdown",
   "metadata": {},
   "source": [
    "　初期状態における変数はランダムであったにもかかわらず、十分な時間経過後には、何らかの模様が形成されているのが認められた。\n",
    "\n",
    "## 解説\n",
    "　有限差分法により、繰り返しの処理を使って計算ができるかを考える。次の方程式で表される系を用いる。\n",
    "\\begin{eqnarray}\n",
    "\\frac{\\partial u}{\\partial t}(t;x,y) &=& a\\Delta u(t;x,y) + u(t;x,y) - u(t;x,y)^3 - v(t;x,y) + k \\\\\n",
    "\\tau \\frac{\\partial u}{\\partial t}(t;x,y) &=& b\\Delta u(t;x,y) + u(t;x,y) - u(t;x,y)\n",
    "\\end{eqnarray}\n",
    "まず、離散ラプラス作用素を次の手法で求める。\n",
    "\\begin{equation}\n",
    "\\Delta u(x,y) = \\frac{u(x+h,y) + u(x-h,y) + u(x,y+h) + u(x,y-h) - 4u(x,y)}{\\mathrm{d}x^2}\n",
    "\\end{equation}\n",
    "次に、uとvの導関数を次の手法で求める。\n",
    "\\begin{equation}\n",
    "\\frac{\\partial u}{\\partial t}(t;x,y) = \\frac{u(t+dt;x,y)-u(t;x,y)}{dt}\n",
    "\\end{equation}\n",
    "最後に繰り返しを使って値を更新する。\n",
    "\\begin{eqnarray}\n",
    "u(t+dt;x,y) &=& u(t;x,y) + dt(a\\Delta u(t;x,y) + u(t;x,y) - u(t;x,y)^3 - v(t;x,y) + k) \\\\\n",
    "u(t+dt;x,y) &=& v(t;x,y) + \\frac{dt}{\\tau}(b\\Delta u(t;x,y) + u(t;x,y) - u(t;x,y))\n",
    "\\end{eqnarray}\n",
    "\n",
    "　ここで、ノイマン境界条件により、領域Eの境界における空間導関数はnullとなる。\n",
    "\\begin{eqnarray}\n",
    "\\forall \\omega \\in {u,v}&,& \\forall t \\ge 0, \\forall x,y \\in \\partial E \\\\\n",
    "\\frac{\\partial \\omega}{\\partial x}(t;-1,y) &=& \\frac{\\partial \\omega}{\\partial x}(t;1,y) \n",
    "= \\frac{\\partial \\omega}{\\partial y}(t;x,-1) = \\frac{\\partial \\omega}{\\partial y}(t;x,1) = 0\n",
    "\\end{eqnarray}\n",
    "　この境界条件はUとVの端の値をコピーすることで実装する。\n",
    "　この数値解析手法が実際の(未知の)数学的な解に十分近いことを確実にするためには、手法の安定性が確認されていなければならない。安全性を満足さ競るための条件は、次の式で表される。\n",
    "\\begin{equation}\n",
    "dt \\leq \\frac{dx^2}{2}\n",
    "\\end{equation}"
   ]
  }
 ],
 "metadata": {
  "kernelspec": {
   "display_name": "Python 3",
   "language": "python",
   "name": "python3"
  },
  "language_info": {
   "codemirror_mode": {
    "name": "ipython",
    "version": 3
   },
   "file_extension": ".py",
   "mimetype": "text/x-python",
   "name": "python",
   "nbconvert_exporter": "python",
   "pygments_lexer": "ipython3",
   "version": "3.6.1"
  }
 },
 "nbformat": 4,
 "nbformat_minor": 2
}
