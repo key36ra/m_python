{
 "cells": [
  {
   "cell_type": "code",
   "execution_count": null,
   "metadata": {
    "collapsed": true
   },
   "outputs": [],
   "source": []
  },
  {
   "cell_type": "markdown",
   "metadata": {},
   "source": [
    "# 12.2 基本セルオートマトンのシミュレーション\n",
    "　セルオートマトンは、格子状に区切られたセルが進化する離散力学系の一種。セルは有限の状態(On,Offなど)を持つ。セルオートマトンの進化は、いくつかのルールにより規定されている。それぞれのセルは、ルールに従い隣接区画の状態で次の状態が決まる。\n",
    "\n",
    "　単純だが、このモデルは無限大の複雑さとカオス的な振る舞いを実現する。例えば、交通、化学反応、森林火災の延焼、伝染病の流行などの現実世界の現象をモデル化可能。また自然界の中にも存在(ある貝殻の模様など)。\n",
    " \n",
    "　基本セルオートマトンは、二値の1次元オートマトン。隠せるは、左右のセルにより状態が決定する。\n",
    "\n",
    "　このレシピでは、NumPyを使って基本セルオートマトンのウルフラムコードをシミュレートする。\n",
    "\n",
    "## 手順\n",
    "1. NumPyとmatplotlibをインポート。"
   ]
  },
  {
   "cell_type": "code",
   "execution_count": 1,
   "metadata": {
    "collapsed": true
   },
   "outputs": [],
   "source": [
    "import numpy as np\n",
    "import matplotlib.pyplot as plt\n",
    "%matplotlib inline"
   ]
  },
  {
   "cell_type": "markdown",
   "metadata": {},
   "source": [
    "1. 次の配列を、数値の2進数表現を得るために使う。"
   ]
  },
  {
   "cell_type": "code",
   "execution_count": 3,
   "metadata": {},
   "outputs": [],
   "source": [
    "u = np.array([[4], [2], [1]])"
   ]
  },
  {
   "cell_type": "markdown",
   "metadata": {},
   "source": [
    "1. 格子状で繰り返しを行う関数を生成。2進数で与えられたルールに従い、すべてのセルを一度に更新する。最初のステップは、**各セル(y)**に対する三つ組みLCE(Left, Center, Right)を得るためにグリッドをシフトする。次に**三つ組みを3ビットの数値(z)**に変換する。最後に、ルールに従い各セルの次の状態を計算する。"
   ]
  },
  {
   "cell_type": "code",
   "execution_count": 4,
   "metadata": {
    "collapsed": true
   },
   "outputs": [],
   "source": [
    "def step(x, rule_binary):\n",
    "    \"\"\"基本セルオートマトンの1ステップを計算\"\"\"\n",
    "    # 全てのセルのL,C,Rの値\n",
    "    y = np.vstack((np.roll(x, 1), x, np.roll(x, -1))).astype(np.int8)\n",
    "    # LCEのパターンを0から7の数値とする\n",
    "    z = np.sum(y * u, axis=0).astype(np.int8)\n",
    "    # ルールに従い、次のパターンを計算\n",
    "    return rule_binary[7-z]"
   ]
  },
  {
   "cell_type": "markdown",
   "metadata": {},
   "source": [
    "1. 基本オートマトンをシミュレートする関数を作成する。まず、ルール(**ウルフラムコード**)の2進数表現を計算する。次に最初の行をランダムに埋めた後、step()を繰り返し適用する。"
   ]
  },
  {
   "cell_type": "code",
   "execution_count": 5,
   "metadata": {
    "collapsed": true
   },
   "outputs": [],
   "source": [
    "def generate(rule, size=80, steps=80):\n",
    "    \"\"\"0から255までの基本セルオートマトンをシミュレート\"\"\"\n",
    "    # ruleの2進数表現を計算\n",
    "    rule_binary = np.array(\n",
    "        [int(x) for x in np.binary_repr(rule, 8)],\n",
    "        dtype=np.int8)\n",
    "    x = np.zeros((steps, size), dtype=np.int8)\n",
    "    # 初期状態はランダム\n",
    "    x[0,:] = np.random.rand(size) < .5\n",
    "    # step関数を繰り返し適用\n",
    "    for i in range(steps-1):\n",
    "        x[i+1,:] = step(x[i,:], rule_binary)\n",
    "    return x"
   ]
  },
  {
   "cell_type": "markdown",
   "metadata": {},
   "source": [
    "1. 9つの異なるオートマトンをシミュレートし、表示する。"
   ]
  },
  {
   "cell_type": "code",
   "execution_count": 6,
   "metadata": {},
   "outputs": [
    {
     "data": {
      "image/png": "[encoded data removed]",
      "text/plain": [
       "<matplotlib.figure.Figure at 0x7f94457f3438>"
      ]
     },
     "metadata": {},
     "output_type": "display_data"
    }
   ],
   "source": [
    "rules = [ 3, 18, 30,\n",
    "         90, 106, 110,\n",
    "        158, 154, 184]\n",
    "for i, rule in enumerate(rules):\n",
    "    x = generate(rule)\n",
    "    plt.subplot(331+i)\n",
    "    plt.imshow(x, interpolation='none', cmap=plt.cm.binary)\n",
    "    plt.xticks([]); plt.yticks([])\n",
    "    plt.title(str(rule))"
   ]
  },
  {
   "cell_type": "markdown",
   "metadata": {},
   "source": [
    "## 解説\n",
    "　1次元の基本セルオートマトンについて考える。各セルCには2つのセル(LとR)が隣接し、それらセルは状態としてOff(0)とOn(1)を持つ。未来のセルの状態は、L,C,Rの3つのセルの状態に依存する。この3セルの状態を0から7の数(2進数表現で3ビット分)で表す。\n",
    "\n",
    "　基本セルオートマトンは、この8つの状態が次に遷移する方法で区別する。そのため、基本オートマトンは、256(2の8乗)種類存在する。それぞれの基本オートマトンは、0から255の番号で識別される。\n",
    "\n",
    "　8種類のLCRの組み合わせを111、110、101、100、011、010、001、000の順で考える。\n",
    " オートマトンの番号を2進数で表現した8ビットの数が、このLCE状態からの遷移先に相当する。例えばルール110(2進数表現で、0101110)オートマトンでは、LCEが111である場合、Cセルの次の値は0に、110のは1に、101は1に遷移する。このルール110オートマトンはチューリング完全(万値チューリングマシン)であることが証明されており、あらゆるコンピュータプログラムを理論的にシミュレート可能である。"
   ]
  }
 ],
 "metadata": {
  "kernelspec": {
   "display_name": "Python 3",
   "language": "python",
   "name": "python3"
  },
  "language_info": {
   "codemirror_mode": {
    "name": "ipython",
    "version": 3
   },
   "file_extension": ".py",
   "mimetype": "text/x-python",
   "name": "python",
   "nbconvert_exporter": "python",
   "pygments_lexer": "ipython3",
   "version": "3.6.1"
  }
 },
 "nbformat": 4,
 "nbformat_minor": 2
}
