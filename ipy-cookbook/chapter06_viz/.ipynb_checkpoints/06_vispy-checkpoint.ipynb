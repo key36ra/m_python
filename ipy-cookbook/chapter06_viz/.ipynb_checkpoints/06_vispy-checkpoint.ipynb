{
 "cells": [
  {
   "cell_type": "code",
   "execution_count": null,
   "metadata": {
    "collapsed": true
   },
   "outputs": [],
   "source": []
  },
  {
   "cell_type": "markdown",
   "metadata": {},
   "source": [
    "# Vispyによる高パフォーマンス対話型データ可視化\n",
    "　既存のPython向けグラフ描画やデータ可視化のライブラリは、ほとんどの場合小から中規模のデータセットが対称となっている。ビッグで＾他時代なら、より大規模のデータセットが描画対象となる。\n",
    " \n",
    "　[Vispy](http://vispy.org)は、2Dと3D向けの新しい高パフォーマンスデータ可視化ライブラリである。Vispyは、OpenGLライブラリを通して、現代的なグラフィックプロセッサ(Graphics Processing Unitss:[GPU](https://ja.wikipedia.org/wiki/Graphics_Processing_Unit))の計算力を活用している。\n",
    " \n",
    "　このレシピでは、OpenGLの基礎概念の簡単な説明を行う。ここでは、Vispyのオブジェクト指向OpenGLインターフェースを使って、デジタル信号を表示する。\n",
    "\n",
    "## 準備\n",
    "　このレシピは[開発版Vispy](http://github.com/vispy/vispy)を使ってテストしている。GitHubのリポジトリをクローンして、次のコマンドでVispyをインストールする。\n",
    " ```python\n",
    " python setup.py install\n",
    " ```\n",
    "\n",
    "## 手順\n",
    "　まず、NumPy、vispy.app(canvasへの描画)、vispy.gloo(OpenGLへのオブジェクト指向インターフェース)をインポートする。"
   ]
  },
  {
   "cell_type": "code",
   "execution_count": 2,
   "metadata": {},
   "outputs": [
    {
     "ename": "ModuleNotFoundError",
     "evalue": "No module named 'vispy'",
     "output_type": "error",
     "traceback": [
      "\u001b[0;31m---------------------------------------------------------------------------\u001b[0m",
      "\u001b[0;31mModuleNotFoundError\u001b[0m                       Traceback (most recent call last)",
      "\u001b[0;32m<ipython-input-2-bff614ad632c>\u001b[0m in \u001b[0;36m<module>\u001b[0;34m()\u001b[0m\n\u001b[1;32m      1\u001b[0m \u001b[0;32mimport\u001b[0m \u001b[0mnumpy\u001b[0m \u001b[0;32mas\u001b[0m \u001b[0mnp\u001b[0m\u001b[0;34m\u001b[0m\u001b[0m\n\u001b[0;32m----> 2\u001b[0;31m \u001b[0;32mfrom\u001b[0m \u001b[0mvispy\u001b[0m \u001b[0;32mimport\u001b[0m \u001b[0;34m(\u001b[0m\u001b[0mapp\u001b[0m\u001b[0;34m,\u001b[0m \u001b[0mgloo\u001b[0m\u001b[0;34m)\u001b[0m\u001b[0;34m\u001b[0m\u001b[0m\n\u001b[0m",
      "\u001b[0;31mModuleNotFoundError\u001b[0m: No module named 'vispy'"
     ]
    }
   ],
   "source": [
    "import numpy as np\n",
    "from vispy import (app, gloo)"
   ]
  },
  {
   "cell_type": "code",
   "execution_count": null,
   "metadata": {
    "collapsed": true
   },
   "outputs": [],
   "source": []
  }
 ],
 "metadata": {
  "kernelspec": {
   "display_name": "Python 3",
   "language": "python",
   "name": "python3"
  },
  "language_info": {
   "codemirror_mode": {
    "name": "ipython",
    "version": 3
   },
   "file_extension": ".py",
   "mimetype": "text/x-python",
   "name": "python",
   "nbconvert_exporter": "python",
   "pygments_lexer": "ipython3",
   "version": "3.6.1"
  }
 },
 "nbformat": 4,
 "nbformat_minor": 2
}
