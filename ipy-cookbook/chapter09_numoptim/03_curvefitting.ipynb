{
 "cells": [
  {
   "cell_type": "code",
   "execution_count": null,
   "metadata": {
    "collapsed": true
   },
   "outputs": [],
   "source": []
  },
  {
   "cell_type": "markdown",
   "metadata": {},
   "source": [
    "# 9.3 非線形最小二乗法を使った、データへの関数あてはめ\n",
    "　ここでは、数値最適化の応用である**非線形最小二乗法**による曲線のフィッティングを行う。目的は、与えられたデータポイントに対して、いくつかのパラメータに依存した関数を当てはめること。線形最小二乗法とは対照的に、関数が線形である必要はない。\n",
    "\n",
    "　人工的に生成したデータに対して、この手法を行っていく。\n",
    "\n",
    "## 手順\n",
    "　まず必要なライブラリをインポートする。"
   ]
  },
  {
   "cell_type": "code",
   "execution_count": 1,
   "metadata": {
    "collapsed": true
   },
   "outputs": [],
   "source": [
    "import numpy as np\n",
    "import scipy.optimize as opt\n",
    "import matplotlib.pyplot as plt\n",
    "%matplotlib inline"
   ]
  },
  {
   "cell_type": "markdown",
   "metadata": {},
   "source": [
    "### 与えられた関数からランダムデータ点の生成\n",
    "1. 次の、4つのパラメータを持つロジスティック関数を定義する。\n",
    "$$f_{a,b,c,d}(x) = \\frac{a}{1 + exp(-c(x-d))} + b$$"
   ]
  },
  {
   "cell_type": "code",
   "execution_count": 2,
   "metadata": {
    "collapsed": true
   },
   "outputs": [],
   "source": [
    "def f(x, a, b, c, d):\n",
    "    return a/(1+ np.exp(-c * np.exp(-c * (x-d)))) + b # ロジスティック関数"
   ]
  },
  {
   "cell_type": "markdown",
   "metadata": {},
   "source": [
    "2. 4つのパラメータをランダムに設定"
   ]
  },
  {
   "cell_type": "code",
   "execution_count": 4,
   "metadata": {},
   "outputs": [],
   "source": [
    "a, c = np.random.exponential(size=2) # データ数2のexp乱数\n",
    "b, d = np.random.randn(2) # 線形乱数"
   ]
  },
  {
   "cell_type": "markdown",
   "metadata": {},
   "source": [
    "3. 実際のデータポイントを生成。またノイズを乗せておく。"
   ]
  },
  {
   "cell_type": "code",
   "execution_count": 7,
   "metadata": {},
   "outputs": [],
   "source": [
    "n = 100 # データ数\n",
    "x = np.linspace(-10., 10., n) # -10<x<10の範囲でn個の等間隔なx値配列\n",
    "y_model = f(x, a, b, c, d) # 乱数パラメータよりデータポイントを生成\n",
    "y = y_model + a * .2 * np.random.randn(n) # ノイズを乗せる"
   ]
  },
  {
   "cell_type": "markdown",
   "metadata": {},
   "source": [
    "4. データポイントをプロットし、さらに定義の関数も黒点線で描画する。"
   ]
  },
  {
   "cell_type": "code",
   "execution_count": 8,
   "metadata": {},
   "outputs": [
    {
     "data": {
      "text/plain": [
       "[<matplotlib.lines.Line2D at 0x7fbfe43e0240>]"
      ]
     },
     "execution_count": 8,
     "metadata": {},
     "output_type": "execute_result"
    },
    {
     "data": {
      "image/png": "[encoded data removed]",
      "text/plain": [
       "<matplotlib.figure.Figure at 0x7fbfe43e0208>"
      ]
     },
     "metadata": {},
     "output_type": "display_data"
    }
   ],
   "source": [
    "plt.plot(x, y_model, '--k') # 定義関数の描画\n",
    "plt.plot(x, y, 'o') # 生成データポイントのプロット"
   ]
  },
  {
   "cell_type": "markdown",
   "metadata": {},
   "source": [
    "### 曲線のフィッティング\n",
    "1. 関数は未知で、データポイントが実験的に得られたものを考える。S字曲線だと推測して、それに当てはめる(曲線のフィッティング)。"
   ]
  },
  {
   "cell_type": "code",
   "execution_count": 9,
   "metadata": {
    "collapsed": true
   },
   "outputs": [],
   "source": [
    "(a_, b_, c_, d_), _ = opt.curve_fit(f, x, y, (a, b, c, d)) # フィッティング"
   ]
  },
  {
   "cell_type": "markdown",
   "metadata": {},
   "source": [
    "2. S字曲線を、前のグラフに加えて描画してみる。"
   ]
  },
  {
   "cell_type": "code",
   "execution_count": 10,
   "metadata": {
    "collapsed": true
   },
   "outputs": [],
   "source": [
    "y_fit = f(x, a_, b_, c_, d_)"
   ]
  },
  {
   "cell_type": "code",
   "execution_count": 12,
   "metadata": {},
   "outputs": [
    {
     "data": {
      "text/plain": [
       "[<matplotlib.lines.Line2D at 0x7fbfb39c58d0>]"
      ]
     },
     "execution_count": 12,
     "metadata": {},
     "output_type": "execute_result"
    },
    {
     "data": {
      "image/png": "[encoded data removed]",
      "text/plain": [
       "<matplotlib.figure.Figure at 0x7fbfb3a2df28>"
      ]
     },
     "metadata": {},
     "output_type": "display_data"
    }
   ],
   "source": [
    "plt.plot(x, y_model, '--k') # 元の関数を点線で描画\n",
    "plt.plot(x, y, 'o') # データ点をプロット\n",
    "plt.plot(x, y_fit, '-') # 曲線フィッティングを線で描画"
   ]
  }
 ],
 "metadata": {
  "kernelspec": {
   "display_name": "Python 3",
   "language": "python",
   "name": "python3"
  },
  "language_info": {
   "codemirror_mode": {
    "name": "ipython",
    "version": 3
   },
   "file_extension": ".py",
   "mimetype": "text/x-python",
   "name": "python",
   "nbconvert_exporter": "python",
   "pygments_lexer": "ipython3",
   "version": "3.6.1"
  }
 },
 "nbformat": 4,
 "nbformat_minor": 2
}
